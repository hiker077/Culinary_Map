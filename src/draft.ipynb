{
 "cells": [
  {
   "cell_type": "code",
   "execution_count": null,
   "metadata": {},
   "outputs": [],
   "source": [
    "from dotenv import dotenv_values\n",
    "import os\n",
    "import pandas\n",
    "import requests\n",
    "import json\n",
    "import types\n",
    "import time \n",
    "\n",
    "\n",
    "def get_places(api_key: str, url: str, query: str, page_token:str = None):\n",
    "    \"\"\"\n",
    "    Get places from Google Places API.\n",
    "\n",
    "    Args:\n",
    "        api_key: str - Google Places API key\n",
    "        url: str - Google Places API URL\n",
    "        query: str - name of the city\n",
    "    \"\"\"\n",
    "\n",
    "    headers = {\n",
    "        \"Content-Type\": \"application/json\",\n",
    "        \"X-Goog-Api-Key\": api_key,\n",
    "        \"X-Goog-FieldMask\": \"nextPageToken,places.id,places.name,places.displayName,places.formattedAddress,places.priceLevel,places.attributions,places.location,places.priceLevel,places.rating,places.userRatingCount,places.servesBreakfast,places.servesBrunch,places.servesCoffee,places.servesDessert,places.servesDinner,places.servesLunch,places.servesVegetarianFood,places.goodForChildren,places.allowsDogs,places.googleMapsLinks\",\n",
    "    }\n",
    "\n",
    "    data = {\"textQuery\": query}\n",
    "\n",
    "    if page_token:\n",
    "        data[\"pageToken\"] = page_token\n",
    "  \n",
    "    try:\n",
    "        respone = requests.post(url, headers=headers, json=data, timeout=10)\n",
    "        respone.raise_for_status()\n",
    "        return respone.json()\n",
    "\n",
    "    except requests.exceptions.HTTPError as e:\n",
    "        print(f\"HTTP error occurred: {e}\")\n",
    "        return None\n",
    "\n",
    "    except Exception as e:\n",
    "        print(f\"Unexpected error occurred: {e}\")\n",
    "        return None\n",
    "\n",
    "\n",
    "\n"
   ]
  },
  {
   "cell_type": "code",
   "execution_count": null,
   "metadata": {},
   "outputs": [],
   "source": [
    "\n",
    "\n",
    "\n",
    "data = get_places(API_KEY, URL_GOOGLE_APIS_PLACE, query=\"restaurants in Poznań\")\n"
   ]
  },
  {
   "cell_type": "code",
   "execution_count": 65,
   "metadata": {},
   "outputs": [],
   "source": [
    "def get_all_city_places(api_key: str, url: str, query: str, max_results: int, page_token: str = None) -> list: \n",
    "    \"\"\" \n",
    "    Get all places for a given query.\n",
    "    Args:\n",
    "        api_key: str - Google Places API key\n",
    "        url: str - Google Places API URL\n",
    "        query: str - name of the city\n",
    "        max_results: int - maximum number of results    \n",
    "    \"\"\"\n",
    "    results = []\n",
    "\n",
    "    while len(results)< max_results:\n",
    "        print(page_token)\n",
    "        data = get_places(api_key, url, query, page_token)\n",
    "        if 'places' in data:\n",
    "            results.extend(data['places'])\n",
    "        else:\n",
    "            break\n",
    "        \n",
    "        if data.get('nextPageToken', None):\n",
    "            page_token = data['nextPageToken']\n",
    "        else: \n",
    "            break\n",
    "        time.sleep(2)\n",
    "\n",
    "    return results\n",
    "\n"
   ]
  },
  {
   "cell_type": "code",
   "execution_count": null,
   "metadata": {},
   "outputs": [
    {
     "data": {
      "text/plain": [
       "60"
      ]
     },
     "execution_count": 67,
     "metadata": {},
     "output_type": "execute_result"
    }
   ],
   "source": [
    "data = get_all_city_places(API_KEY, URL_GOOGLE_APIS_PLACE, query=\"restaurants in Poznań\", max_results=60)"
   ]
  },
  {
   "cell_type": "code",
   "execution_count": 68,
   "metadata": {},
   "outputs": [],
   "source": [
    "def get_all(api_key: str, url: str, query: list,  max_results: int = 40) -> list:\n",
    "    \"\"\"\n",
    "    Get places from all the cities in the list. \n",
    "    Args:\n",
    "        api_key: str - Google Places API key\n",
    "        url: str - Google Places API URL \n",
    "        query: list - list of cities\n",
    "    \n",
    "    \"\"\"\n",
    "    results = []\n",
    "    for city in query:\n",
    "        data = get_all_city_places(api_key, url, city, max_results)\n",
    "        results.extend(data)\n",
    "    \n",
    "    return results\n",
    "        \n",
    "\n"
   ]
  },
  {
   "cell_type": "code",
   "execution_count": null,
   "metadata": {},
   "outputs": [
    {
     "data": {
      "text/plain": [
       "80"
      ]
     },
     "execution_count": 71,
     "metadata": {},
     "output_type": "execute_result"
    }
   ],
   "source": [
    "city_restaurants_list = ['restaurants in Poznań', 'restaurants in Kraków']\n",
    "all_cities_restaurants = get_all(API_KEY, URL_GOOGLE_APIS_PLACE, query=city_restaurants_list, max_results=40)"
   ]
  }
 ],
 "metadata": {
  "kernelspec": {
   "display_name": "Python 3",
   "language": "python",
   "name": "python3"
  },
  "language_info": {
   "codemirror_mode": {
    "name": "ipython",
    "version": 3
   },
   "file_extension": ".py",
   "mimetype": "text/x-python",
   "name": "python",
   "nbconvert_exporter": "python",
   "pygments_lexer": "ipython3",
   "version": "3.11.8"
  }
 },
 "nbformat": 4,
 "nbformat_minor": 2
}
